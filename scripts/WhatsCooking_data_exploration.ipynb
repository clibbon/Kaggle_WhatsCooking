{
 "cells": [
  {
   "cell_type": "markdown",
   "metadata": {},
   "source": [
    "A first look around the data in the what's cooking challenge. The challenge is to predict the cuisine based on the incoming list of ingredients provided."
   ]
  },
  {
   "cell_type": "code",
   "execution_count": 82,
   "metadata": {
    "collapsed": false
   },
   "outputs": [],
   "source": [
    "# Modules\n",
    "import json\n",
    "from pprint import pprint\n",
    "import matplotlib.pyplot as plt\n",
    "%matplotlib inline\n",
    "import numpy as np\n",
    "import csv"
   ]
  },
  {
   "cell_type": "code",
   "execution_count": 3,
   "metadata": {
    "collapsed": false
   },
   "outputs": [
    {
     "name": "stdout",
     "output_type": "stream",
     "text": [
      "{u'cuisine': u'greek',\n",
      " u'id': 10259,\n",
      " u'ingredients': [u'romaine lettuce',\n",
      "                  u'black olives',\n",
      "                  u'grape tomatoes',\n",
      "                  u'garlic',\n",
      "                  u'pepper',\n",
      "                  u'purple onion',\n",
      "                  u'seasoning',\n",
      "                  u'garbanzo beans',\n",
      "                  u'feta cheese crumbles']}\n",
      "39774\n"
     ]
    }
   ],
   "source": [
    "with open('../data/train.json') as data_file:    \n",
    "    data = json.load(data_file)\n",
    "\n",
    "pprint(data[0])\n",
    "print len(data)"
   ]
  },
  {
   "cell_type": "markdown",
   "metadata": {},
   "source": [
    "As can be seen, each recipe comes as a dictionary with fields for cuisine, an id, and a list of ingredients. There are 39,774 recipes in total. A first and most simple approach would be to calculate the number of times each ingredient appears in each cuisine. At the same time it is useful to perform a count of all the unique cuisines and ingredients that appear, just so I can visually check whether there is any cleaning to be done and the scale of the problem.\n",
    "\n",
    "For now I will look through each recipe, create 2 dictionaries, cuisines and ingredients. The first has a dictionary for each value, with a count of ingredients, the second is a pure count of ingredients."
   ]
  },
  {
   "cell_type": "code",
   "execution_count": 8,
   "metadata": {
    "collapsed": false
   },
   "outputs": [],
   "source": [
    "# Empties\n",
    "cuisines = {}\n",
    "ingredients = {}\n",
    "\n",
    "for recipe in data:\n",
    "    # The cuisine counter\n",
    "    if recipe['cuisine'] in cuisines:\n",
    "        cuisines[recipe['cuisine']] += 1\n",
    "    else:\n",
    "        cuisines[recipe['cuisine']] = 1\n",
    "    # The indivual ingedient counter\n",
    "    for ingredient in recipe['ingredients']:\n",
    "        if ingredient in ingredients:\n",
    "            ingredients[ingredient] += 1\n",
    "        else:\n",
    "            ingredients[ingredient] = 1"
   ]
  },
  {
   "cell_type": "code",
   "execution_count": 13,
   "metadata": {
    "collapsed": false
   },
   "outputs": [
    {
     "name": "stdout",
     "output_type": "stream",
     "text": [
      "{u'irish': 667, u'mexican': 6438, u'chinese': 2673, u'filipino': 755, u'vietnamese': 825, u'moroccan': 821, u'brazilian': 467, u'japanese': 1423, u'british': 804, u'greek': 1175, u'indian': 3003, u'jamaican': 526, u'french': 2646, u'spanish': 989, u'russian': 489, u'cajun_creole': 1546, u'thai': 1539, u'southern_us': 4320, u'korean': 830, u'italian': 7838}\n",
      "Number of unique ingredients is:  6714\n"
     ]
    }
   ],
   "source": [
    "print(cuisines)\n",
    "print \"Number of unique ingredients is: \", len(ingredients)"
   ]
  },
  {
   "cell_type": "code",
   "execution_count": 17,
   "metadata": {
    "collapsed": false
   },
   "outputs": [
    {
     "name": "stdout",
     "output_type": "stream",
     "text": [
      "[667, 6438, 2673, 755, 825, 821, 467, 1423, 804, 1175, 3003, 526, 2646, 989, 489, 1546, 1539, 4320, 830, 7838]\n"
     ]
    }
   ],
   "source": [
    "print cuisines.values()"
   ]
  },
  {
   "cell_type": "code",
   "execution_count": 24,
   "metadata": {
    "collapsed": false
   },
   "outputs": [
    {
     "data": {
      "image/png": "[encoded data removed]",
      "text/plain": [
       "<matplotlib.figure.Figure at 0x7fada7a4da10>"
      ]
     },
     "metadata": {},
     "output_type": "display_data"
    }
   ],
   "source": [
    "plt.hist(ingredients.values(),bins = 20,range = (1,20))\n",
    "plt.show()"
   ]
  },
  {
   "cell_type": "code",
   "execution_count": 27,
   "metadata": {
    "collapsed": false
   },
   "outputs": [
    {
     "name": "stdout",
     "output_type": "stream",
     "text": [
      "[u'salt', u'olive oil', u'garlic', u'water', u'onions']\n"
     ]
    }
   ],
   "source": [
    "# Which ingedients are super common\n",
    "cut_off_count = 7000\n",
    "common_ing = []\n",
    "\n",
    "for name, count in ingredients.iteritems():\n",
    "    if count >= cut_off_count:\n",
    "        common_ing.append(name)\n",
    "\n",
    "print common_ing"
   ]
  },
  {
   "cell_type": "code",
   "execution_count": 32,
   "metadata": {
    "collapsed": false
   },
   "outputs": [
    {
     "data": {
      "image/png": "[encoded data removed]",
      "text/plain": [
       "<matplotlib.figure.Figure at 0x7fada78b7850>"
      ]
     },
     "metadata": {},
     "output_type": "display_data"
    }
   ],
   "source": [
    "# How much can the ingredients list be simplified\n",
    "plt.plot(range(len(ingredients)),np.cumsum(sorted(ingredients.values())))\n",
    "plt.show()"
   ]
  },
  {
   "cell_type": "code",
   "execution_count": 39,
   "metadata": {
    "collapsed": false
   },
   "outputs": [
    {
     "data": {
      "text/plain": [
       "640"
      ]
     },
     "execution_count": 39,
     "metadata": {},
     "output_type": "execute_result"
    }
   ],
   "source": [
    "# Create a new list of ingredients which appear at least more than 100 times to simplify matters. This bit of code\n",
    "# is used to check how many ingredients we'll have if only the most common ones are counted\n",
    "common_counts = [x for x in ingredients.values() if x > 100]\n",
    "len(common_counts)"
   ]
  },
  {
   "cell_type": "code",
   "execution_count": 41,
   "metadata": {
    "collapsed": false
   },
   "outputs": [],
   "source": [
    "count_cutoff = 100\n",
    "common_igs = {key: value for key, value in ingredients.iteritems() if value >= count_cutoff}"
   ]
  },
  {
   "cell_type": "code",
   "execution_count": 42,
   "metadata": {
    "collapsed": false
   },
   "outputs": [
    {
     "name": "stdout",
     "output_type": "stream",
     "text": [
      "{u'red cabbage': 134, u'dijon mustard': 513, u'yellow corn meal': 341, u'sweet potatoes': 455, u'ground cardamom': 237, u'mascarpone': 149, u'milk': 2263, u'Italian bread': 118, u'palm sugar': 122, u'minced onion': 189, u'grated orange': 149, u'onion powder': 528, u'pork shoulder': 135, u'ginger paste': 119, u'cayenne pepper': 1523, u'pancetta': 177, u'vegetable broth': 409, u'mozzarella cheese': 467, u'couscous': 189, u'sugar pea': 104, u'white bread': 130, u'frozen corn kernels': 124, u'melted butter': 276, u'self rising flour': 193, u'turnips': 113, u'vanilla extract': 1298, u'yeast': 109, u'lard': 157, u'garlic salt': 240, u'marinara sauce': 229, u'boiling water': 350, u'jack cheese': 118, u'curry paste': 106, u'peaches': 263, u'tortillas': 222, u'asparagus': 230, u'jalapeno chilies': 1730, u'red chili powder': 220, u'prosciutto': 284, u'green pepper': 373, u'saffron threads': 277, u'hot red pepper flakes': 171, u'vanilla': 311, u'pork': 300, u'penne pasta': 178, u'dried porcini mushrooms': 100, u'bacon': 620, u'thai chile': 223, u'chopped cilantro': 796, u'caster sugar': 130, u'chopped fresh thyme': 375, u'spaghetti': 342, u'fresh mint': 416, u'dried shiitake mushrooms': 124, u'bay leaves': 1036, u'fresh tarragon': 142, u'white wine': 367, u'rice noodles': 263, u'chickpeas': 402, u'sea salt': 940, u'parsley sprigs': 140, u'part-skim mozzarella cheese': 227, u'chili powder': 2036, u'whole peeled tomatoes': 127, u'kalamata': 196, u'frozen pastry puff sheets': 106, u'water': 7457, u'peanut oil': 610, u'green bell pepper': 1180, u'vinegar': 316, u'long grain white rice': 277, u'ground cayenne pepper': 139, u'active dry yeast': 377, u'cooked chicken': 296, u'chili sauce': 147, u'grated parmesan cheese': 1886, u'cinnamon': 696, u'tomato paste': 1158, u'curry leaves': 219, u'evaporated milk': 208, u'vegetable oil': 4385, u'pure vanilla extract': 169, u'guacamole': 185, u'fresh oregano': 394, u'feta cheese crumbles': 358, u'smoked sausage': 139, u'stewed tomatoes': 175, u'lime': 1439, u'sake': 345, u'brown rice': 202, u'mayonaise': 781, u'fresh basil leaves': 502, u'chicken thighs': 336, u'coriander powder': 246, u'ancho chile pepper': 143, u'yoghurt': 247, u'dried rosemary': 173, u'butternut squash': 174, u'lean ground beef': 388, u'green peas': 212, u'water chestnuts': 195, u'pasta': 321, u'scallions': 1891, u'poblano peppers': 119, u'yellow squash': 116, u'cannellini beans': 203, u'whole kernel corn, drain': 106, u'taco seasoning mix': 181, u'granulated sugar': 849, u'pizza doughs': 117, u'cr\\xe8me fra\\xeeche': 145, u'ground chicken': 102, u'fresh spinach': 230, u'baby spinach leaves': 103, u'kosher salt': 3113, u'monterey jack': 235, u'ground nutmeg': 605, u'lemon zest': 249, u'chopped fresh chives': 227, u'pork tenderloin': 228, u'fresh coriander': 285, u'dry sherry': 256, u'fish sauce': 1247, u'cooked chicken breasts': 111, u'honey': 1299, u'low sodium soy sauce': 425, u'green beans': 341, u'cotija': 139, u'onions': 7972, u'bittersweet chocolate': 140, u'light soy sauce': 347, u'creole seasoning': 276, u'fresh tomatoes': 148, u'Mexican cheese blend': 174, u'large shrimp': 414, u'fat free milk': 134, u'almond extract': 173, u'boneless skinless chicken breasts': 1111, u'fresh rosemary': 442, u'unsalted butter': 2782, u'chicken wings': 133, u'cardamom': 106, u'non-fat sour cream': 133, u'black pepper': 2627, u'salsa': 963, u'cabbage': 416, u'sweet chili sauce': 112, u'frozen peas': 383, u'cremini mushrooms': 138, u'red lentils': 110, u'kaffir lime leaves': 133, u'mango': 268, u'beef stock': 160, u'masa harina': 100, u'diced tomatoes': 1624, u'finely chopped onion': 457, u'fresh parmesan cheese': 286, u'extra firm tofu': 137, u'light brown sugar': 422, u'crushed red pepper flakes': 505, u'vegetable oil cooking spray': 260, u'spices': 171, u'dough': 105, u'pineapple': 120, u'flat leaf parsley': 1094, u'andouille sausage': 267, u'unsweetened coconut milk': 191, u'plain yogurt': 364, u'fresh parsley leaves': 132, u'chili oil': 109, u'long-grain rice': 353, u'rosemary sprigs': 108, u'avocado': 1229, u'chopped green bell pepper': 268, u'golden raisins': 240, u'low salt chicken broth': 385, u'orange': 355, u'peanuts': 406, u'pesto': 118, u'fresh parsley': 1604, u'sauce': 458, u'red bell pepper': 1939, u'ground red pepper': 538, u'pecans': 144, u'salsa verde': 135, u'green olives': 177, u'granny smith apples': 119, u'fennel bulb': 205, u'greek style plain yogurt': 117, u'powdered sugar': 501, u'chopped celery': 426, u'crushed garlic': 107, u'ketchup': 432, u'bread': 175, u'coriander': 458, u'chopped onion': 1251, u'plain flour': 154, u'meat': 137, u'thyme': 361, u'minced ginger': 198, u'potatoes': 1018, u'gingerroot': 119, u'sliced mushrooms': 244, u'tortilla chips': 302, u'sliced almonds': 187, u'serrano peppers': 104, u'bamboo shoots': 137, u'russet potatoes': 266, u'cracked black pepper': 408, u'parmesan cheese': 591, u'allspice': 129, u'lime zest': 137, u'taco seasoning': 271, u'dry white wine': 1218, u'cooking spray': 1490, u'cumin': 953, u'chipotle chile': 150, u'lemongrass': 364, u'pinto beans': 171, u'chicken stock': 1039, u'ground black pepper': 4785, u'garam masala': 925, u'szechwan peppercorns': 142, u'heavy cream': 1146, u'hard-boiled egg': 104, u'grits': 184, u'peeled fresh ginger': 582, u'linguine': 248, u'bread crumb fresh': 170, u'coconut oil': 221, u'chiles': 321, u'jasmine rice': 152, u'walnuts': 114, u'tumeric': 738, u'all purpose unbleached flour': 179, u'anchovy fillets': 189, u'dry yeast': 126, u'fettucine': 159, u'chopped garlic': 345, u'smoked paprika': 345, u'Shaoxing wine': 264, u'vegetable stock': 192, u'orange zest': 152, u'cucumber': 768, u'lasagna noodles': 209, u'cheese': 447, u'slivered almonds': 167, u'cold water': 506, u'toasted sesame oil': 355, u'large egg yolks': 575, u'lettuce': 183, u'artichoke hearts': 135, u'cherry tomatoes': 436, u'ground beef': 878, u'green onions': 3078, u'spinach': 366, u'large garlic cloves': 873, u'cajun seasoning': 376, u'Thai fish sauce': 108, u'ground cumin': 2747, u'seasoning': 137, u'dark brown sugar': 319, u'fresh thyme leaves': 190, u'chorizo sausage': 103, u'ground cloves': 371, u'freshly grated parmesan': 105, u'cornflour': 103, u'salt and ground black pepper': 215, u'chopped fresh sage': 123, u'lime wedges': 482, u'thyme sprigs': 209, u'red pepper flakes': 669, u'ice cubes': 130, u'frozen corn': 175, u'creamy peanut butter': 111, u'chicken breast halves': 152, u'apples': 165, u'boneless chicken breast': 146, u'red curry paste': 122, u'ground coriander': 768, u'hot pepper sauce': 306, u'whole milk': 764, u'coconut': 178, u'yellow bell pepper': 291, u'star anise': 259, u'dried basil': 585, u'cooking oil': 483, u'carrots': 2814, u'ginger': 1755, u'fresh ginger': 1503, u'juice': 280, u'lemon juice': 1395, u'lump crab meat': 117, u'dried parsley': 169, u'apple cider vinegar': 268, u'roma tomatoes': 227, u'mint': 163, u'clove': 600, u'kimchi': 112, u'chicken legs': 117, u'bread flour': 193, u'cream cheese, soften': 143, u'bow-tie pasta': 103, u'rice wine': 221, u'cilantro sprigs': 215, u'raisins': 460, u'zucchini': 892, u'coconut milk': 854, u'fresh dill': 243, u'bok choy': 119, u'ricotta cheese': 352, u'flank steak': 258, u'eggs': 3388, u'Thai red curry paste': 127, u'chinese rice wine': 131, u'italian sausage': 137, u'shallots': 1477, u'dried thyme': 873, u'chile powder': 120, u'watercress': 104, u'Sriracha': 298, u'poblano chiles': 155, u'garlic paste': 282, u'low sodium chicken broth': 339, u'pecorino romano cheese': 157, u'red chili peppers': 644, u'crushed red pepper': 825, u'button mushrooms': 163, u'cashew nuts': 218, u'heavy whipping cream': 216, u'Gochujang base': 142, u'sliced carrots': 100, u'salt': 18049, u'ground ginger': 678, u'bell pepper': 387, u'worcestershire sauce': 688, u'tequila': 133, u'sesame oil': 1773, u'kidney beans': 159, u'queso fresco': 141, u'chicken': 982, u'bananas': 224, u'tomatillos': 322, u'garlic chili sauce': 130, u'reduced sodium chicken broth': 183, u'sugar': 6434, u'celery': 837, u'polenta': 148, u'romano cheese': 106, u'Mexican oregano': 100, u'bacon slices': 212, u'rice': 509, u'fresh orange juice': 209, u'catfish fillets': 109, u'corn oil': 121, u'chillies': 121, u'goat cheese': 169, u'dry red wine': 309, u'swiss chard': 103, u'molasses': 106, u'red wine': 229, u'cardamom pods': 154, u'cheddar cheese': 424, u'vegetable shortening': 138, u'crushed tomatoes': 453, u'shredded Monterey Jack cheese': 314, u'asian fish sauce': 158, u'boneless chicken skinless thigh': 343, u'fresh thyme': 345, u'shredded cabbage': 111, u'semisweet chocolate': 164, u'nutmeg': 237, u'collard greens': 167, u'bread crumbs': 306, u'sour cream': 1539, u'parmigiano reggiano cheese': 353, u'boneless skinless chicken breast halves': 618, u'unsweetened cocoa powder': 266, u'noodles': 225, u'chicken breasts': 793, u'cream of tartar': 159, u'white vinegar': 554, u'crawfish': 118, u'dried oregano': 1707, u'cilantro leaves': 1160, u'basil leaves': 267, u'dried apricot': 133, u'mussels': 175, u'sage leaves': 114, u'chili pepper': 126, u'cauliflower': 221, u'lemon wedge': 225, u'cornmeal': 368, u'unflavored gelatin': 108, u'white wine vinegar': 352, u'feta cheese': 268, u'provolone cheese': 165, u'barbecue sauce': 126, u'mustard seeds': 313, u'cumin seed': 935, u'1% low-fat milk': 193, u'green tomatoes': 108, u'orange juice': 338, u'dry bread crumbs': 287, u'fennel seeds': 352, u'garbanzo beans': 148, u'dark sesame oil': 201, u'cake flour': 179, u'extra-virgin olive oil': 2747, u'eggplant': 501, u'coarse salt': 578, u'salmon fillets': 159, u'peanut butter': 122, u'olive oil': 7972, u'marjoram': 103, u'bay leaf': 839, u'cooked rice': 387, u'large eggs': 2948, u'ice water': 164, u'chicken broth': 1554, u'mint leaves': 263, u'arugula': 177, u'oregano': 440, u'corn kernels': 280, u'purple onion': 1896, u'toasted sesame seeds': 294, u'sliced green onions': 472, u'white pepper': 439, u'olives': 155, u'iceberg lettuce': 164, u'sherry vinegar': 160, u'shiitake': 331, u'parsley': 345, u'shortening': 229, u'buttermilk': 863, u'beer': 202, u'fresh chives': 113, u'grated lemon zest': 342, u'egg whites': 453, u'basil': 282, u'pork sausages': 115, u'white rice': 248, u'grated lemon peel': 181, u'diced green chilies': 106, u'hoisin sauce': 429, u'cream cheese': 562, u'fresh cilantro': 841, u'black beans': 896, u'sausages': 185, u'peppercorns': 144, u'chili flakes': 158, u'seasoning salt': 131, u'chili': 187, u'egg yolks': 542, u'black mustard seeds': 112, u'fresh basil': 1137, u'Italian parsley leaves': 125, u'beansprouts': 454, u'cooked white rice': 145, u'broccoli florets': 190, u'hot sauce': 674, u'vidalia onion': 115, u'basmati rice': 326, u'chopped pecans': 282, u'pasta sauce': 266, u'celery ribs': 567, u'pork belly': 124, u'shredded cheese': 157, u'yellow onion': 1184, u'oyster sauce': 455, u'sliced black olives': 161, u'green cabbage': 208, u'rice vinegar': 1204, u'serrano chile': 299, u'ground white pepper': 348, u'shredded mozzarella cheese': 475, u'baking powder': 1738, u'thai basil': 178, u'shredded lettuce': 175, u'ground cinnamon': 1231, u'flour': 1348, u'vanilla beans': 167, u'yukon gold potatoes': 218, u'tomatoes': 3058, u'oil': 1970, u'garlic cloves': 6237, u'garlic': 7380, u'napa cabbage': 226, u'broccoli': 220, u'butter': 4848, u'snow peas': 183, u'beef broth': 381, u'red pepper': 459, u'enchilada sauce': 295, u'marsala wine': 121, u'fresh mushrooms': 272, u'kale': 157, u'sausage casings': 108, u'grated nutmeg': 234, u'panko breadcrumbs': 144, u'margarine': 220, u'chili paste': 122, u'cilantro': 1142, u'ham': 222, u'cayenne': 470, u'frozen chopped spinach': 206, u'light corn syrup': 159, u'ghee': 307, u'Tabasco Pepper Sauce': 184, u'cottage cheese': 100, u'chives': 206, u'pimentos': 134, u'black-eyed peas': 196, u'plum tomatoes': 858, u'grape tomatoes': 228, u'white sugar': 1093, u'refried beans': 250, u'romaine lettuce': 270, u'coriander seeds': 395, u'chopped parsley': 333, u'maple syrup': 110, u'red wine vinegar': 752, u'green chilies': 768, u'cider vinegar': 348, u'fine sea salt': 285, u'mirin': 503, u'wonton wrappers': 158, u'spring onions': 407, u'baking potatoes': 207, u'fat free less sodium chicken broth': 473, u'lemon grass': 100, u'chipotles in adobo': 193, u'ricotta': 105, u'greek yogurt': 233, u'almonds': 194, u'pecan halves': 102, u'roasted red peppers': 239, u'pitted kalamata olives': 204, u'cinnamon sticks': 646, u'tomato pur\\xe9e': 217, u'okra': 268, u'baking soda': 942, u'ice': 111, u'reduced sodium soy sauce': 157, u'ground pork': 473, u'mint sprigs': 131, u'chopped walnuts': 128, u'arborio rice': 292, u'reduced-fat sour cream': 105, u'sharp cheddar cheese': 154, u'corn tortillas': 965, u'pepper': 4438, u'half & half': 337, u'italian seasoning': 395, u'corn': 329, u'ground allspice': 364, u'garlic powder': 1442, u'chopped cilantro fresh': 1698, u'black peppercorns': 453, u'balsamic vinegar': 574, u'ground pepper': 385, u'corn starch': 1757, u'beef': 273, u'light coconut milk': 156, u'rosemary': 107, u'canola oil': 1223, u'shrimp': 912, u'dark rum': 116, u'rice flour': 130, u'seeds': 130, u'beans': 100, u'chile pepper': 340, u'green chile': 302, u'ground turmeric': 949, u'sweetened condensed milk': 271, u'tofu': 136, u'mushrooms': 578, u'brown sugar': 1503, u'lettuce leaves': 189, u'shredded carrots': 156, u'leeks': 435, u'warm water': 577, u'roasted peanuts': 156, u'vegetables': 197, u'sun-dried tomatoes': 161, u'whole wheat flour': 179, u'all-purpose flour': 4632, u'sweet paprika': 134, u'sweet onion': 336, u'dry mustard': 152, u'white onion': 684, u'french bread': 192, u'pinenuts': 348, u'paneer': 110, u'strawberries': 219, u'fresh lime juice': 1368, u'baby spinach': 257, u'red potato': 205, u'dried red chile peppers': 103, u'shredded sharp cheddar cheese': 167, u'beets': 106, u'freshly ground pepper': 949, u'paprika': 1287, u'flour tortillas': 865, u'black olives': 229, u'diced onions': 242, u'part-skim ricotta cheese': 125, u'sea scallops': 114, u'penne': 113, u'bourbon whiskey': 199, u'fresh lemon juice': 1679, u'cream': 258, u'baguette': 270, u'chopped tomatoes': 298, u'lemon': 1218, u'hazelnuts': 100, u'ground turkey': 168, u'firm tofu': 207, u'saffron': 206, u'chinese five-spice powder': 253, u'tomato sauce': 865, u'curry powder': 694, u'whipping cream': 619, u'whipped cream': 103, u'lime juice': 1072, u'mustard': 108, u'fontina cheese': 107, u'minced garlic': 1583, u'peas': 193, u'dashi': 128, u'quinoa': 116, u'brandy': 169, u'capers': 541, u'ginger root': 123, u'dark soy sauce': 312, u'shredded cheddar cheese': 769, u'radishes': 282, u'large egg whites': 485, u'fresh ginger root': 338, u'chopped fresh mint': 317, u'daikon': 150, u'confectioners sugar': 395, u'soy sauce': 3296, u'sesame seeds': 676, u'ground lamb': 136, u'medium shrimp': 461, u'english cucumber': 189, u'hot water': 356}\n"
     ]
    }
   ],
   "source": [
    "print common_igs"
   ]
  },
  {
   "cell_type": "code",
   "execution_count": 43,
   "metadata": {
    "collapsed": true
   },
   "outputs": [],
   "source": [
    "# Create the empty dictionaries\n",
    "ing_per_cuisine = {}\n",
    "\n",
    "# The ingredient counts for each cuisine\n",
    "for key in cuisines:\n",
    "    ing_per_cuisine[key] = {ikey: 0 for ikey in common_igs}\n",
    "    \n",
    "# Loop through each recipe, and add the top cuisines to the relevant dictionary\n",
    "for recipe in data:\n",
    "    for ingredient in recipe['ingredients']:\n",
    "        if ingredient in common_igs:\n",
    "            ing_per_cuisine[recipe['cuisine']][ingredient] += 1"
   ]
  },
  {
   "cell_type": "code",
   "execution_count": 46,
   "metadata": {
    "collapsed": false
   },
   "outputs": [
    {
     "data": {
      "text/plain": [
       "{u'1% low-fat milk': 68,\n",
       " u'Gochujang base': 0,\n",
       " u'Italian bread': 89,\n",
       " u'Italian parsley leaves': 74,\n",
       " u'Mexican cheese blend': 0,\n",
       " u'Mexican oregano': 1,\n",
       " u'Shaoxing wine': 0,\n",
       " u'Sriracha': 0,\n",
       " u'Tabasco Pepper Sauce': 3,\n",
       " u'Thai fish sauce': 0,\n",
       " u'Thai red curry paste': 0,\n",
       " u'active dry yeast': 128,\n",
       " u'all purpose unbleached flour': 68,\n",
       " u'all-purpose flour': 918,\n",
       " u'allspice': 4,\n",
       " u'almond extract': 56,\n",
       " u'almonds': 35,\n",
       " u'ancho chile pepper': 1,\n",
       " u'anchovy fillets': 124,\n",
       " u'andouille sausage': 1,\n",
       " u'apple cider vinegar': 7,\n",
       " u'apples': 6,\n",
       " u'arborio rice': 261,\n",
       " u'artichoke hearts': 99,\n",
       " u'arugula': 125,\n",
       " u'asian fish sauce': 0,\n",
       " u'asparagus': 123,\n",
       " u'avocado': 25,\n",
       " u'baby spinach': 117,\n",
       " u'baby spinach leaves': 39,\n",
       " u'bacon': 124,\n",
       " u'bacon slices': 48,\n",
       " u'baguette': 119,\n",
       " u'baking potatoes': 34,\n",
       " u'baking powder': 186,\n",
       " u'baking soda': 68,\n",
       " u'balsamic vinegar': 348,\n",
       " u'bamboo shoots': 0,\n",
       " u'bananas': 6,\n",
       " u'barbecue sauce': 9,\n",
       " u'basil': 174,\n",
       " u'basil leaves': 153,\n",
       " u'basmati rice': 2,\n",
       " u'bay leaf': 130,\n",
       " u'bay leaves': 107,\n",
       " u'beans': 6,\n",
       " u'beansprouts': 1,\n",
       " u'beef': 22,\n",
       " u'beef broth': 62,\n",
       " u'beef stock': 24,\n",
       " u'beer': 4,\n",
       " u'beets': 11,\n",
       " u'bell pepper': 38,\n",
       " u'bittersweet chocolate': 42,\n",
       " u'black beans': 5,\n",
       " u'black mustard seeds': 0,\n",
       " u'black olives': 67,\n",
       " u'black pepper': 636,\n",
       " u'black peppercorns': 27,\n",
       " u'black-eyed peas': 3,\n",
       " u'boiling water': 63,\n",
       " u'bok choy': 0,\n",
       " u'boneless chicken breast': 19,\n",
       " u'boneless chicken skinless thigh': 20,\n",
       " u'boneless skinless chicken breast halves': 182,\n",
       " u'boneless skinless chicken breasts': 132,\n",
       " u'bourbon whiskey': 5,\n",
       " u'bow-tie pasta': 86,\n",
       " u'brandy': 25,\n",
       " u'bread': 51,\n",
       " u'bread crumb fresh': 74,\n",
       " u'bread crumbs': 103,\n",
       " u'bread flour': 77,\n",
       " u'broccoli': 64,\n",
       " u'broccoli florets': 64,\n",
       " u'brown rice': 6,\n",
       " u'brown sugar': 67,\n",
       " u'butter': 1030,\n",
       " u'buttermilk': 32,\n",
       " u'butternut squash': 62,\n",
       " u'button mushrooms': 35,\n",
       " u'cabbage': 12,\n",
       " u'cajun seasoning': 5,\n",
       " u'cake flour': 24,\n",
       " u'cannellini beans': 161,\n",
       " u'canola oil': 41,\n",
       " u'capers': 306,\n",
       " u'cardamom': 0,\n",
       " u'cardamom pods': 1,\n",
       " u'carrots': 379,\n",
       " u'cashew nuts': 2,\n",
       " u'caster sugar': 1,\n",
       " u'catfish fillets': 2,\n",
       " u'cauliflower': 34,\n",
       " u'cayenne': 8,\n",
       " u'cayenne pepper': 50,\n",
       " u'celery': 155,\n",
       " u'celery ribs': 130,\n",
       " u'cheddar cheese': 18,\n",
       " u'cheese': 127,\n",
       " u'cherry tomatoes': 170,\n",
       " u'chicken': 84,\n",
       " u'chicken breast halves': 35,\n",
       " u'chicken breasts': 93,\n",
       " u'chicken broth': 245,\n",
       " u'chicken legs': 7,\n",
       " u'chicken stock': 142,\n",
       " u'chicken thighs': 32,\n",
       " u'chicken wings': 2,\n",
       " u'chickpeas': 37,\n",
       " u'chile pepper': 2,\n",
       " u'chile powder': 1,\n",
       " u'chiles': 9,\n",
       " u'chili': 1,\n",
       " u'chili flakes': 17,\n",
       " u'chili oil': 1,\n",
       " u'chili paste': 1,\n",
       " u'chili pepper': 5,\n",
       " u'chili powder': 26,\n",
       " u'chili sauce': 3,\n",
       " u'chillies': 2,\n",
       " u'chinese five-spice powder': 1,\n",
       " u'chinese rice wine': 0,\n",
       " u'chipotle chile': 2,\n",
       " u'chipotles in adobo': 2,\n",
       " u'chives': 31,\n",
       " u'chopped celery': 103,\n",
       " u'chopped cilantro': 9,\n",
       " u'chopped cilantro fresh': 25,\n",
       " u'chopped fresh chives': 68,\n",
       " u'chopped fresh mint': 54,\n",
       " u'chopped fresh sage': 91,\n",
       " u'chopped fresh thyme': 151,\n",
       " u'chopped garlic': 69,\n",
       " u'chopped green bell pepper': 39,\n",
       " u'chopped onion': 327,\n",
       " u'chopped parsley': 99,\n",
       " u'chopped pecans': 28,\n",
       " u'chopped tomatoes': 37,\n",
       " u'chopped walnuts': 46,\n",
       " u'chorizo sausage': 3,\n",
       " u'cider vinegar': 14,\n",
       " u'cilantro': 3,\n",
       " u'cilantro leaves': 7,\n",
       " u'cilantro sprigs': 1,\n",
       " u'cinnamon': 23,\n",
       " u'cinnamon sticks': 18,\n",
       " u'clove': 19,\n",
       " u'coarse salt': 128,\n",
       " u'coconut': 0,\n",
       " u'coconut milk': 6,\n",
       " u'coconut oil': 3,\n",
       " u'cold water': 58,\n",
       " u'collard greens': 5,\n",
       " u'confectioners sugar': 94,\n",
       " u'cooked chicken': 33,\n",
       " u'cooked chicken breasts': 16,\n",
       " u'cooked rice': 5,\n",
       " u'cooked white rice': 1,\n",
       " u'cooking oil': 24,\n",
       " u'cooking spray': 491,\n",
       " u'coriander': 0,\n",
       " u'coriander powder': 1,\n",
       " u'coriander seeds': 7,\n",
       " u'corn': 3,\n",
       " u'corn kernels': 13,\n",
       " u'corn oil': 8,\n",
       " u'corn starch': 83,\n",
       " u'corn tortillas': 1,\n",
       " u'cornflour': 0,\n",
       " u'cornmeal': 72,\n",
       " u'cotija': 0,\n",
       " u'cottage cheese': 44,\n",
       " u'couscous': 5,\n",
       " u'cracked black pepper': 117,\n",
       " u'crawfish': 0,\n",
       " u'cream': 27,\n",
       " u'cream cheese': 105,\n",
       " u'cream cheese, soften': 40,\n",
       " u'cream of tartar': 9,\n",
       " u'creamy peanut butter': 0,\n",
       " u'cremini mushrooms': 67,\n",
       " u'creole seasoning': 4,\n",
       " u'crushed garlic': 20,\n",
       " u'crushed red pepper': 418,\n",
       " u'crushed red pepper flakes': 179,\n",
       " u'crushed tomatoes': 241,\n",
       " u'cr\\xe8me fra\\xeeche': 19,\n",
       " u'cucumber': 25,\n",
       " u'cumin': 3,\n",
       " u'cumin seed': 4,\n",
       " u'curry leaves': 0,\n",
       " u'curry paste': 0,\n",
       " u'curry powder': 8,\n",
       " u'daikon': 0,\n",
       " u'dark brown sugar': 5,\n",
       " u'dark rum': 22,\n",
       " u'dark sesame oil': 1,\n",
       " u'dark soy sauce': 0,\n",
       " u'dashi': 0,\n",
       " u'diced green chilies': 0,\n",
       " u'diced onions': 42,\n",
       " u'diced tomatoes': 429,\n",
       " u'dijon mustard': 99,\n",
       " u'dough': 46,\n",
       " u'dried apricot': 12,\n",
       " u'dried basil': 425,\n",
       " u'dried oregano': 626,\n",
       " u'dried parsley': 90,\n",
       " u'dried porcini mushrooms': 81,\n",
       " u'dried red chile peppers': 4,\n",
       " u'dried rosemary': 96,\n",
       " u'dried shiitake mushrooms': 1,\n",
       " u'dried thyme': 145,\n",
       " u'dry bread crumbs': 115,\n",
       " u'dry mustard': 6,\n",
       " u'dry red wine': 131,\n",
       " u'dry sherry': 22,\n",
       " u'dry white wine': 658,\n",
       " u'dry yeast': 71,\n",
       " u'egg whites': 95,\n",
       " u'egg yolks': 82,\n",
       " u'eggplant': 204,\n",
       " u'eggs': 627,\n",
       " u'enchilada sauce': 0,\n",
       " u'english cucumber': 7,\n",
       " u'evaporated milk': 13,\n",
       " u'extra firm tofu': 2,\n",
       " u'extra-virgin olive oil': 1362,\n",
       " u'fat free less sodium chicken broth': 158,\n",
       " u'fat free milk': 42,\n",
       " u'fennel bulb': 103,\n",
       " u'fennel seeds': 114,\n",
       " u'feta cheese': 36,\n",
       " u'feta cheese crumbles': 68,\n",
       " u'fettucine': 136,\n",
       " u'fine sea salt': 77,\n",
       " u'finely chopped onion': 145,\n",
       " u'firm tofu': 9,\n",
       " u'fish sauce': 2,\n",
       " u'flank steak': 12,\n",
       " u'flat leaf parsley': 588,\n",
       " u'flour': 142,\n",
       " u'flour tortillas': 11,\n",
       " u'fontina cheese': 84,\n",
       " u'french bread': 54,\n",
       " u'fresh basil': 787,\n",
       " u'fresh basil leaves': 352,\n",
       " u'fresh chives': 24,\n",
       " u'fresh cilantro': 6,\n",
       " u'fresh coriander': 1,\n",
       " u'fresh dill': 16,\n",
       " u'fresh ginger': 4,\n",
       " u'fresh ginger root': 0,\n",
       " u'fresh lemon juice': 471,\n",
       " u'fresh lime juice': 25,\n",
       " u'fresh mint': 53,\n",
       " u'fresh mushrooms': 117,\n",
       " u'fresh orange juice': 32,\n",
       " u'fresh oregano': 209,\n",
       " u'fresh parmesan cheese': 251,\n",
       " u'fresh parsley': 631,\n",
       " u'fresh parsley leaves': 56,\n",
       " u'fresh rosemary': 292,\n",
       " u'fresh spinach': 87,\n",
       " u'fresh tarragon': 33,\n",
       " u'fresh thyme': 62,\n",
       " u'fresh thyme leaves': 53,\n",
       " u'fresh tomatoes': 32,\n",
       " u'freshly grated parmesan': 87,\n",
       " u'freshly ground pepper': 316,\n",
       " u'frozen chopped spinach': 131,\n",
       " u'frozen corn': 1,\n",
       " u'frozen corn kernels': 7,\n",
       " u'frozen pastry puff sheets': 6,\n",
       " u'frozen peas': 67,\n",
       " u'garam masala': 1,\n",
       " u'garbanzo beans': 18,\n",
       " u'garlic': 1471,\n",
       " u'garlic chili sauce': 1,\n",
       " u'garlic cloves': 1619,\n",
       " u'garlic paste': 1,\n",
       " u'garlic powder': 252,\n",
       " u'garlic salt': 61,\n",
       " u'ghee': 0,\n",
       " u'ginger': 1,\n",
       " u'ginger paste': 0,\n",
       " u'ginger root': 0,\n",
       " u'gingerroot': 2,\n",
       " u'goat cheese': 92,\n",
       " u'golden raisins': 46,\n",
       " u'granny smith apples': 6,\n",
       " u'granulated sugar': 82,\n",
       " u'grape tomatoes': 98,\n",
       " u'grated lemon peel': 89,\n",
       " u'grated lemon zest': 142,\n",
       " u'grated nutmeg': 64,\n",
       " u'grated orange': 31,\n",
       " u'grated parmesan cheese': 1580,\n",
       " u'greek style plain yogurt': 0,\n",
       " u'greek yogurt': 6,\n",
       " u'green beans': 70,\n",
       " u'green bell pepper': 163,\n",
       " u'green cabbage': 12,\n",
       " u'green chile': 10,\n",
       " u'green chilies': 3,\n",
       " u'green olives': 52,\n",
       " u'green onions': 144,\n",
       " u'green peas': 39,\n",
       " u'green pepper': 39,\n",
       " u'green tomatoes': 2,\n",
       " u'grits': 3,\n",
       " u'ground allspice': 7,\n",
       " u'ground beef': 237,\n",
       " u'ground black pepper': 1444,\n",
       " u'ground cardamom': 6,\n",
       " u'ground cayenne pepper': 7,\n",
       " u'ground chicken': 9,\n",
       " u'ground cinnamon': 85,\n",
       " u'ground cloves': 30,\n",
       " u'ground coriander': 11,\n",
       " u'ground cumin': 30,\n",
       " u'ground ginger': 15,\n",
       " u'ground lamb': 6,\n",
       " u'ground nutmeg': 127,\n",
       " u'ground pepper': 77,\n",
       " u'ground pork': 72,\n",
       " u'ground red pepper': 34,\n",
       " u'ground turkey': 48,\n",
       " u'ground turmeric': 2,\n",
       " u'ground white pepper': 33,\n",
       " u'guacamole': 0,\n",
       " u'half & half': 89,\n",
       " u'ham': 42,\n",
       " u'hard-boiled egg': 6,\n",
       " u'hazelnuts': 53,\n",
       " u'heavy cream': 300,\n",
       " u'heavy whipping cream': 73,\n",
       " u'hoisin sauce': 0,\n",
       " u'honey': 126,\n",
       " u'hot pepper sauce': 7,\n",
       " u'hot red pepper flakes': 76,\n",
       " u'hot sauce': 20,\n",
       " u'hot water': 85,\n",
       " u'ice': 7,\n",
       " u'ice cubes': 8,\n",
       " u'ice water': 7,\n",
       " u'iceberg lettuce': 6,\n",
       " u'italian sausage': 129,\n",
       " u'italian seasoning': 347,\n",
       " u'jack cheese': 9,\n",
       " u'jalapeno chilies': 20,\n",
       " u'jasmine rice': 1,\n",
       " u'juice': 72,\n",
       " u'kaffir lime leaves': 0,\n",
       " u'kalamata': 62,\n",
       " u'kale': 58,\n",
       " u'ketchup': 14,\n",
       " u'kidney beans': 12,\n",
       " u'kimchi': 0,\n",
       " u'kosher salt': 656,\n",
       " u'lard': 5,\n",
       " u'large egg whites': 138,\n",
       " u'large egg yolks': 142,\n",
       " u'large eggs': 625,\n",
       " u'large garlic cloves': 293,\n",
       " u'large shrimp': 77,\n",
       " u'lasagna noodles': 196,\n",
       " u'lean ground beef': 135,\n",
       " u'leeks': 106,\n",
       " u'lemon': 236,\n",
       " u'lemon grass': 0,\n",
       " u'lemon juice': 216,\n",
       " u'lemon wedge': 58,\n",
       " u'lemon zest': 98,\n",
       " u'lemongrass': 1,\n",
       " u'lettuce': 6,\n",
       " u'lettuce leaves': 8,\n",
       " u'light brown sugar': 15,\n",
       " u'light coconut milk': 1,\n",
       " u'light corn syrup': 8,\n",
       " u'light soy sauce': 0,\n",
       " u'lime': 5,\n",
       " u'lime juice': 6,\n",
       " u'lime wedges': 5,\n",
       " u'lime zest': 2,\n",
       " u'linguine': 193,\n",
       " u'long grain white rice': 6,\n",
       " u'long-grain rice': 10,\n",
       " u'low salt chicken broth': 138,\n",
       " u'low sodium chicken broth': 78,\n",
       " u'low sodium soy sauce': 5,\n",
       " u'lump crab meat': 17,\n",
       " u'mango': 6,\n",
       " u'maple syrup': 6,\n",
       " u'margarine': 38,\n",
       " u'marinara sauce': 222,\n",
       " u'marjoram': 32,\n",
       " u'marsala wine': 105,\n",
       " u'masa harina': 0,\n",
       " u'mascarpone': 124,\n",
       " u'mayonaise': 63,\n",
       " u'meat': 15,\n",
       " u'medium shrimp': 70,\n",
       " u'melted butter': 24,\n",
       " u'milk': 277,\n",
       " u'minced garlic': 334,\n",
       " u'minced ginger': 0,\n",
       " u'minced onion': 41,\n",
       " u'mint': 12,\n",
       " u'mint leaves': 19,\n",
       " u'mint sprigs': 28,\n",
       " u'mirin': 0,\n",
       " u'molasses': 4,\n",
       " u'monterey jack': 8,\n",
       " u'mozzarella cheese': 396,\n",
       " u'mushrooms': 184,\n",
       " u'mussels': 38,\n",
       " u'mustard': 8,\n",
       " u'mustard seeds': 1,\n",
       " u'napa cabbage': 3,\n",
       " u'non-fat sour cream': 14,\n",
       " u'noodles': 38,\n",
       " u'nutmeg': 40,\n",
       " u'oil': 92,\n",
       " u'okra': 2,\n",
       " u'olive oil': 3111,\n",
       " u'olives': 29,\n",
       " u'onion powder': 39,\n",
       " u'onions': 1240,\n",
       " u'orange': 38,\n",
       " u'orange juice': 19,\n",
       " u'orange zest': 28,\n",
       " u'oregano': 114,\n",
       " u'oyster sauce': 0,\n",
       " u'palm sugar': 0,\n",
       " u'pancetta': 153,\n",
       " u'paneer': 0,\n",
       " u'panko breadcrumbs': 24,\n",
       " u'paprika': 76,\n",
       " u'parmesan cheese': 474,\n",
       " u'parmigiano reggiano cheese': 306,\n",
       " u'parsley': 95,\n",
       " u'parsley sprigs': 38,\n",
       " u'part-skim mozzarella cheese': 201,\n",
       " u'part-skim ricotta cheese': 111,\n",
       " u'pasta': 255,\n",
       " u'pasta sauce': 246,\n",
       " u'peaches': 18,\n",
       " u'peanut butter': 0,\n",
       " u'peanut oil': 4,\n",
       " u'peanuts': 1,\n",
       " u'peas': 42,\n",
       " u'pecan halves': 2,\n",
       " u'pecans': 7,\n",
       " u'pecorino romano cheese': 146,\n",
       " u'peeled fresh ginger': 11,\n",
       " u'penne': 99,\n",
       " u'penne pasta': 146,\n",
       " u'pepper': 965,\n",
       " u'peppercorns': 3,\n",
       " u'pesto': 113,\n",
       " u'pimentos': 16,\n",
       " u'pineapple': 1,\n",
       " u'pinenuts': 252,\n",
       " u'pinto beans': 6,\n",
       " u'pitted kalamata olives': 94,\n",
       " u'pizza doughs': 103,\n",
       " u'plain flour': 5,\n",
       " u'plain yogurt': 7,\n",
       " u'plum tomatoes': 340,\n",
       " u'poblano chiles': 1,\n",
       " u'poblano peppers': 1,\n",
       " u'polenta': 132,\n",
       " u'pork': 10,\n",
       " u'pork belly': 2,\n",
       " u'pork sausages': 14,\n",
       " u'pork shoulder': 4,\n",
       " u'pork tenderloin': 24,\n",
       " u'potatoes': 59,\n",
       " u'powdered sugar': 69,\n",
       " u'prosciutto': 256,\n",
       " u'provolone cheese': 138,\n",
       " u'pure vanilla extract': 22,\n",
       " u'purple onion': 350,\n",
       " u'queso fresco': 0,\n",
       " u'quinoa': 8,\n",
       " u'radishes': 13,\n",
       " u'raisins': 39,\n",
       " u'red bell pepper': 354,\n",
       " u'red cabbage': 5,\n",
       " u'red chili peppers': 22,\n",
       " u'red chili powder': 1,\n",
       " u'red curry paste': 0,\n",
       " u'red lentils': 4,\n",
       " u'red pepper': 49,\n",
       " u'red pepper flakes': 206,\n",
       " u'red potato': 26,\n",
       " u'red wine': 99,\n",
       " u'red wine vinegar': 227,\n",
       " u'reduced sodium chicken broth': 36,\n",
       " u'reduced sodium soy sauce': 0,\n",
       " u'reduced-fat sour cream': 13,\n",
       " u'refried beans': 0,\n",
       " u'rice': 12,\n",
       " u'rice flour': 0,\n",
       " u'rice noodles': 0,\n",
       " u'rice vinegar': 8,\n",
       " u'rice wine': 0,\n",
       " u'ricotta': 95,\n",
       " u'ricotta cheese': 333,\n",
       " u'roasted peanuts': 0,\n",
       " u'roasted red peppers': 114,\n",
       " u'roma tomatoes': 44,\n",
       " u'romaine lettuce': 33,\n",
       " u'romano cheese': 89,\n",
       " u'rosemary': 57,\n",
       " u'rosemary sprigs': 50,\n",
       " u'russet potatoes': 40,\n",
       " u'saffron': 8,\n",
       " u'saffron threads': 28,\n",
       " u'sage leaves': 89,\n",
       " u'sake': 1,\n",
       " u'salmon fillets': 11,\n",
       " u'salsa': 8,\n",
       " u'salsa verde': 4,\n",
       " u'salt': 3454,\n",
       " u'salt and ground black pepper': 66,\n",
       " u'sauce': 53,\n",
       " u'sausage casings': 78,\n",
       " u'sausages': 58,\n",
       " u'scallions': 61,\n",
       " u'sea salt': 202,\n",
       " u'sea scallops': 31,\n",
       " u'seasoning': 12,\n",
       " u'seasoning salt': 15,\n",
       " u'seeds': 1,\n",
       " u'self rising flour': 1,\n",
       " u'semisweet chocolate': 46,\n",
       " u'serrano chile': 4,\n",
       " u'serrano peppers': 0,\n",
       " u'sesame oil': 1,\n",
       " u'sesame seeds': 13,\n",
       " u'shallots': 316,\n",
       " u'sharp cheddar cheese': 9,\n",
       " u'sherry vinegar': 27,\n",
       " u'shiitake': 34,\n",
       " u'shortening': 21,\n",
       " u'shredded Monterey Jack cheese': 13,\n",
       " u'shredded cabbage': 4,\n",
       " u'shredded carrots': 11,\n",
       " u'shredded cheddar cheese': 42,\n",
       " u'shredded cheese': 10,\n",
       " u'shredded lettuce': 1,\n",
       " u'shredded mozzarella cheese': 413,\n",
       " u'shredded sharp cheddar cheese': 17,\n",
       " u'shrimp': 59,\n",
       " u'sliced almonds': 37,\n",
       " u'sliced black olives': 49,\n",
       " u'sliced carrots': 24,\n",
       " u'sliced green onions': 40,\n",
       " u'sliced mushrooms': 131,\n",
       " u'slivered almonds': 47,\n",
       " u'smoked paprika': 7,\n",
       " u'smoked sausage': 4,\n",
       " u'snow peas': 8,\n",
       " u'sour cream': 71,\n",
       " u'soy sauce': 15,\n",
       " u'spaghetti': 296,\n",
       " u'spices': 2,\n",
       " u'spinach': 119,\n",
       " u'spring onions': 3,\n",
       " u'star anise': 1,\n",
       " u'stewed tomatoes': 37,\n",
       " u'strawberries': 48,\n",
       " u'sugar': 760,\n",
       " u'sugar pea': 16,\n",
       " u'sun-dried tomatoes': 118,\n",
       " u'sweet chili sauce': 0,\n",
       " u'sweet onion': 69,\n",
       " u'sweet paprika': 3,\n",
       " u'sweet potatoes': 15,\n",
       " u'sweetened condensed milk': 9,\n",
       " u'swiss chard': 63,\n",
       " u'szechwan peppercorns': 0,\n",
       " u'taco seasoning': 0,\n",
       " u'taco seasoning mix': 0,\n",
       " u'tequila': 2,\n",
       " u'thai basil': 2,\n",
       " u'thai chile': 0,\n",
       " u'thyme': 51,\n",
       " u'thyme sprigs': 45,\n",
       " u'toasted sesame oil': 2,\n",
       " u'toasted sesame seeds': 0,\n",
       " u'tofu': 0,\n",
       " u'tomatillos': 0,\n",
       " u'tomato paste': 376,\n",
       " u'tomato pur\\xe9e': 47,\n",
       " u'tomato sauce': 357,\n",
       " u'tomatoes': 601,\n",
       " u'tortilla chips': 2,\n",
       " u'tortillas': 0,\n",
       " u'tumeric': 5,\n",
       " u'turnips': 1,\n",
       " u'unflavored gelatin': 48,\n",
       " u'unsalted butter': 564,\n",
       " u'unsweetened cocoa powder': 84,\n",
       " u'unsweetened coconut milk': 1,\n",
       " u'vanilla': 28,\n",
       " u'vanilla beans': 26,\n",
       " u'vanilla extract': 219,\n",
       " u'vegetable broth': 81,\n",
       " u'vegetable oil': 253,\n",
       " u'vegetable oil cooking spray': 73,\n",
       " u'vegetable shortening': 5,\n",
       " u'vegetable stock': 29,\n",
       " u'vegetables': 29,\n",
       " u'vidalia onion': 19,\n",
       " u'vinegar': 8,\n",
       " u'walnuts': 38,\n",
       " u'warm water': 182,\n",
       " u'water': 1052,\n",
       " u'water chestnuts': 3,\n",
       " u'watercress': 14,\n",
       " u'whipped cream': 15,\n",
       " u'whipping cream': 162,\n",
       " u'white bread': 35,\n",
       " u'white onion': 48,\n",
       " u'white pepper': 22,\n",
       " u'white rice': 11,\n",
       " u'white sugar': 231,\n",
       " u'white vinegar': 22,\n",
       " u'white wine': 176,\n",
       " u'white wine vinegar': 73,\n",
       " u'whole kernel corn, drain': 4,\n",
       " u'whole milk': 157,\n",
       " u'whole peeled tomatoes': 60,\n",
       " u'whole wheat flour': 21,\n",
       " u'wonton wrappers': 17,\n",
       " u'worcestershire sauce': 54,\n",
       " u'yeast': 11,\n",
       " u'yellow bell pepper': 85,\n",
       " u'yellow corn meal': 64,\n",
       " u'yellow onion': 153,\n",
       " u'yellow squash': 37,\n",
       " u'yoghurt': 2,\n",
       " u'yukon gold potatoes': 39,\n",
       " u'zucchini': 326}"
      ]
     },
     "execution_count": 46,
     "metadata": {},
     "output_type": "execute_result"
    }
   ],
   "source": [
    "ing_per_cuisine['italian']"
   ]
  },
  {
   "cell_type": "code",
   "execution_count": 56,
   "metadata": {
    "collapsed": false
   },
   "outputs": [],
   "source": [
    "# Now find the percentage of all occurances of each which occur in each cuisine\n",
    "ing_cuisine_ratio = ing_per_cuisine\n",
    "for cuisine in ing_per_cuisine:\n",
    "    for ingredient in ing_per_cuisine[cuisine]:\n",
    "        ing_cuisine_ratio[cuisine][ingredient] = \\\n",
    "        ing_per_cuisine[cuisine][ingredient]/\\\n",
    "        float(common_igs[ingredient])"
   ]
  },
  {
   "cell_type": "code",
   "execution_count": 68,
   "metadata": {
    "collapsed": false
   },
   "outputs": [
    {
     "name": "stdout",
     "output_type": "stream",
     "text": [
      "1.0\n",
      "Success, the sum across all cuisines is 1\n"
     ]
    }
   ],
   "source": [
    "# A quick check that the sum of any sample of these is 1\n",
    "ingredient = 'yeast'\n",
    "tot = 0\n",
    "for cuisine in ing_cuisine_ratio:\n",
    "    tot += ing_cuisine_ratio[cuisine][ingredient]\n",
    "print tot\n",
    "if abs(tot-1) <= 1e-15:\n",
    "    print \"Success, the sum across all cuisines is 1\""
   ]
  },
  {
   "cell_type": "code",
   "execution_count": 72,
   "metadata": {
    "collapsed": false,
    "scrolled": true
   },
   "outputs": [],
   "source": [
    "# Now estimate the performance on the training set, by looping through \n",
    "# all recipes and seeing which one has the highest likelihood. This \n",
    "# could be faster using arrays\n",
    "scores = [] # List to count results\n",
    "\n",
    "for recipe in data:\n",
    "    cui_temp = {key: 0 for key in cuisines}\n",
    "    # Check against all cuisines\n",
    "    for cuisine in cui_temp:\n",
    "        for ingredient in recipe['ingredients']:\n",
    "            if ingredient in common_igs:\n",
    "                cui_temp[cuisine] += ing_cuisine_ratio[cuisine][ingredient]\n",
    "    v=list(cui_temp.values())\n",
    "    k=list(cui_temp.keys())\n",
    "    cuisine_guess = k[v.index(max(v))]\n",
    "    if cuisine_guess == recipe['cuisine']:\n",
    "        scores.append(1)\n",
    "    else:\n",
    "        scores.append(0)\n",
    "                "
   ]
  },
  {
   "cell_type": "code",
   "execution_count": 73,
   "metadata": {
    "collapsed": false
   },
   "outputs": [
    {
     "name": "stdout",
     "output_type": "stream",
     "text": [
      "0.566525871172\n"
     ]
    }
   ],
   "source": [
    "# Estimate the expected result\n",
    "print(sum(scores)/float(len(scores)))"
   ]
  },
  {
   "cell_type": "markdown",
   "metadata": {},
   "source": [
    "This result has one very significant fault, where the ingredients are actually slightly biased according to the popularity of each cuisine. This can be remedied by using a slightly different version, which measures the likelihood of each ingredient within each cuisine."
   ]
  },
  {
   "cell_type": "code",
   "execution_count": 74,
   "metadata": {
    "collapsed": true
   },
   "outputs": [],
   "source": [
    "# Find what ratio of each cuisine contained which ingredients\n",
    "ing_internal_ratios = ing_cuisine_ratio\n",
    "for cuisine in cuisines:\n",
    "    for ingredient in ing_internal_ratios[cuisine]:\n",
    "        ing_internal_ratios[cuisine][ingredient] = \\\n",
    "        ing_internal_ratios[cuisine][ingredient] / float(cuisines[cuisine])"
   ]
  },
  {
   "cell_type": "code",
   "execution_count": 75,
   "metadata": {
    "collapsed": false
   },
   "outputs": [
    {
     "name": "stdout",
     "output_type": "stream",
     "text": [
      "0.582792779202\n"
     ]
    }
   ],
   "source": [
    "# Now estimate the performance on the training set, by looping through \n",
    "# all recipes and seeing which one has the highest likelihood. This \n",
    "# could be faster using arrays\n",
    "scores = [] # List to count results\n",
    "\n",
    "for recipe in data:\n",
    "    cui_temp = {key: 0 for key in cuisines}\n",
    "    # Check against all cuisines\n",
    "    for cuisine in cui_temp:\n",
    "        for ingredient in recipe['ingredients']:\n",
    "            if ingredient in common_igs:\n",
    "                cui_temp[cuisine] += ing_internal_ratios[cuisine][ingredient]\n",
    "    v=list(cui_temp.values())\n",
    "    k=list(cui_temp.keys())\n",
    "    cuisine_guess = k[v.index(max(v))]\n",
    "    if cuisine_guess == recipe['cuisine']:\n",
    "        scores.append(1)\n",
    "    else:\n",
    "        scores.append(0)\n",
    "\n",
    "# Estimate the expected result\n",
    "print(sum(scores)/float(len(scores)))"
   ]
  },
  {
   "cell_type": "code",
   "execution_count": 76,
   "metadata": {
    "collapsed": false
   },
   "outputs": [
    {
     "name": "stdout",
     "output_type": "stream",
     "text": [
      "0.56650072912\n"
     ]
    }
   ],
   "source": [
    "# Lets test this on the public leaderboard, and see how it does, and \n",
    "# have a nice chance to practice outputting to csv"
   ]
  },
  {
   "cell_type": "code",
   "execution_count": 77,
   "metadata": {
    "collapsed": false
   },
   "outputs": [
    {
     "name": "stdout",
     "output_type": "stream",
     "text": [
      "{u'id': 18009,\n",
      " u'ingredients': [u'baking powder',\n",
      "                  u'eggs',\n",
      "                  u'all-purpose flour',\n",
      "                  u'raisins',\n",
      "                  u'milk',\n",
      "                  u'white sugar']}\n",
      "9944\n"
     ]
    }
   ],
   "source": [
    "# Lets test this on the public leaderboard, and see how it does\n",
    "with open('../data/test.json') as data_file:    \n",
    "    test_data = json.load(data_file)\n",
    "\n",
    "pprint(test_data[0])\n",
    "print len(test_data)"
   ]
  },
  {
   "cell_type": "code",
   "execution_count": 79,
   "metadata": {
    "collapsed": false
   },
   "outputs": [],
   "source": [
    "ids = [] # Store of recipe ids\n",
    "cuisine_guesses = [] # store of guessed cuisines\n",
    "\n",
    "for recipe in test_data:\n",
    "    ids.append(recipe['id'])\n",
    "    cui_temp = {key: 0 for key in cuisines}\n",
    "    # Check against all cuisines\n",
    "    for cuisine in cui_temp:\n",
    "        for ingredient in recipe['ingredients']:\n",
    "            if ingredient in common_igs:\n",
    "                cui_temp[cuisine] += ing_internal_ratios[cuisine][ingredient]\n",
    "    v=list(cui_temp.values())\n",
    "    k=list(cui_temp.keys())\n",
    "    cuisine_guesses.append(k[v.index(max(v))])"
   ]
  },
  {
   "cell_type": "code",
   "execution_count": 81,
   "metadata": {
    "collapsed": false
   },
   "outputs": [
    {
     "name": "stdout",
     "output_type": "stream",
     "text": [
      "[u'british', u'british', u'moroccan', u'cajun_creole', u'italian', u'british', u'spanish', u'chinese', u'mexican', u'moroccan']\n"
     ]
    }
   ],
   "source": [
    "print cuisine_guesses[:10]"
   ]
  },
  {
   "cell_type": "code",
   "execution_count": 85,
   "metadata": {
    "collapsed": false
   },
   "outputs": [],
   "source": [
    "with open('../results/init_submission.csv','w') as csvfile:\n",
    "    writer = csv.writer(csvfile, delimiter = ',')\n",
    "    writer.writerow(['id','cuisine'])\n",
    "    for i in range(len(ids)):\n",
    "        writer.writerow([ids[i],cuisine_guesses[i]])"
   ]
  },
  {
   "cell_type": "markdown",
   "metadata": {},
   "source": [
    "This was successfully submitted, and scored 0.56798, pretty close to the score on the training data, 0.58279. The next step will be to use a better model, initially a random forest implemented using sci-kit learn."
   ]
  },
  {
   "cell_type": "code",
   "execution_count": null,
   "metadata": {
    "collapsed": true
   },
   "outputs": [],
   "source": []
  }
 ],
 "metadata": {
  "kernelspec": {
   "display_name": "Python 2",
   "language": "python",
   "name": "python2"
  },
  "language_info": {
   "codemirror_mode": {
    "name": "ipython",
    "version": 2
   },
   "file_extension": ".py",
   "mimetype": "text/x-python",
   "name": "python",
   "nbconvert_exporter": "python",
   "pygments_lexer": "ipython2",
   "version": "2.7.6"
  }
 },
 "nbformat": 4,
 "nbformat_minor": 0
}
