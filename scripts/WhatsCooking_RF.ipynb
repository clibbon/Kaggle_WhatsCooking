{
 "cells": [
  {
   "cell_type": "markdown",
   "metadata": {},
   "source": [
    "In this script a randomforest classifier is used to estimate the cuisine. "
   ]
  },
  {
   "cell_type": "code",
   "execution_count": 32,
   "metadata": {
    "collapsed": false
   },
   "outputs": [],
   "source": [
    "# Modules\n",
    "import json\n",
    "from pprint import pprint\n",
    "import matplotlib.pyplot as plt\n",
    "%matplotlib inline\n",
    "import numpy as np\n",
    "import csv\n",
    "from sklearn.ensemble import RandomForestClassifier\n",
    "from sklearn.cross_validation import cross_val_score"
   ]
  },
  {
   "cell_type": "code",
   "execution_count": 2,
   "metadata": {
    "collapsed": true
   },
   "outputs": [],
   "source": [
    "# Import the training data\n",
    "with open('../data/train.json') as data_file:    \n",
    "    data = json.load(data_file)\n",
    "# Extract the cuisines and recipes\n",
    "# Empties\n",
    "cuisines = {}\n",
    "ingredients = {}\n",
    "\n",
    "for recipe in data:\n",
    "    # The cuisine counter\n",
    "    if recipe['cuisine'] in cuisines:\n",
    "        cuisines[recipe['cuisine']] += 1\n",
    "    else:\n",
    "        cuisines[recipe['cuisine']] = 1\n",
    "    # The indivual ingedient counter\n",
    "    for ingredient in recipe['ingredients']:\n",
    "        if ingredient in ingredients:\n",
    "            ingredients[ingredient] += 1\n",
    "        else:\n",
    "            ingredients[ingredient] = 1\n",
    "            "
   ]
  },
  {
   "cell_type": "code",
   "execution_count": 4,
   "metadata": {
    "collapsed": true
   },
   "outputs": [],
   "source": [
    "ingredient_cut_off = 4 # must have more than this many occurances to be counted\n",
    "cuisine_list = cuisines.keys()\n",
    "ingredient_list = [key for key in ingredients if ingredients[key] > ingredient_cut_off]"
   ]
  },
  {
   "cell_type": "code",
   "execution_count": 15,
   "metadata": {
    "collapsed": false
   },
   "outputs": [],
   "source": [
    "# Create the arrays used for the training. Recipes go on rows, and ingredients are the \n",
    "# columns, or features.\n",
    "ing_array = np.zeros((len(data),len(ingredient_list)),dtype=bool) # Store of which ingredients are present\n",
    "targets = np.zeros(len(data)) # Store of which cuisine that row belongs to\n",
    "\n",
    "for r_count, recipe in enumerate(data):\n",
    "    for ingredient in recipe['ingredients']:\n",
    "        if ingredient in ingredient_list:\n",
    "            ing_array[r_count,ingredient_list.index(ingredient)] = 1\n",
    "    targets[r_count] = cuisine_list.index(recipe['cuisine'])"
   ]
  },
  {
   "cell_type": "code",
   "execution_count": 23,
   "metadata": {
    "collapsed": false
   },
   "outputs": [
    {
     "data": {
      "text/plain": [
       "9"
      ]
     },
     "execution_count": 23,
     "metadata": {},
     "output_type": "execute_result"
    }
   ],
   "source": [
    "targets[0]"
   ]
  },
  {
   "cell_type": "code",
   "execution_count": 37,
   "metadata": {
    "collapsed": false
   },
   "outputs": [
    {
     "data": {
      "text/plain": [
       "array([ 0.52195734,  0.52635542,  0.51380522,  0.51293645,  0.51482412,\n",
       "        0.52803621,  0.50880725,  0.51913394,  0.50906801,  0.53491303])"
      ]
     },
     "execution_count": 37,
     "metadata": {},
     "output_type": "execute_result"
    }
   ],
   "source": [
    "forest = RandomForestClassifier(n_estimators = 1)\n",
    "cross_val_score(forest,ing_array,targets,cv=10)"
   ]
  },
  {
   "cell_type": "code",
   "execution_count": 29,
   "metadata": {
    "collapsed": false
   },
   "outputs": [
    {
     "ename": "AttributeError",
     "evalue": "'RandomForestClassifier' object has no attribute 'n_classes'",
     "output_type": "error",
     "traceback": [
      "\u001b[1;31m---------------------------------------------------------------------------\u001b[0m",
      "\u001b[1;31mAttributeError\u001b[0m                            Traceback (most recent call last)",
      "\u001b[1;32m<ipython-input-29-2dcc6d77e472>\u001b[0m in \u001b[0;36m<module>\u001b[1;34m()\u001b[0m\n\u001b[1;32m----> 1\u001b[1;33m \u001b[0mforest\u001b[0m\u001b[1;33m.\u001b[0m\u001b[0mn_classes\u001b[0m\u001b[1;33m\u001b[0m\u001b[0m\n\u001b[0m",
      "\u001b[1;31mAttributeError\u001b[0m: 'RandomForestClassifier' object has no attribute 'n_classes'"
     ]
    }
   ],
   "source": []
  },
  {
   "cell_type": "code",
   "execution_count": null,
   "metadata": {
    "collapsed": true
   },
   "outputs": [],
   "source": []
  }
 ],
 "metadata": {
  "kernelspec": {
   "display_name": "Python 2",
   "language": "python",
   "name": "python2"
  },
  "language_info": {
   "codemirror_mode": {
    "name": "ipython",
    "version": 2
   },
   "file_extension": ".py",
   "mimetype": "text/x-python",
   "name": "python",
   "nbconvert_exporter": "python",
   "pygments_lexer": "ipython2",
   "version": "2.7.6"
  }
 },
 "nbformat": 4,
 "nbformat_minor": 0
}
